{
 "cells": [
  {
   "cell_type": "code",
   "execution_count": 27,
   "id": "d04d4671-f550-4fcb-9deb-cffe74a19d0d",
   "metadata": {},
   "outputs": [
    {
     "data": {
      "text/plain": [
       "{'thor': 9,\n",
       " 'hathodawala': 2,\n",
       " 'is': 4,\n",
       " 'looking': 7,\n",
       " 'for': 0,\n",
       " 'job': 6,\n",
       " 'thor hathodawala': 10,\n",
       " 'hathodawala is': 3,\n",
       " 'is looking': 5,\n",
       " 'looking for': 8,\n",
       " 'for job': 1}"
      ]
     },
     "execution_count": 27,
     "metadata": {},
     "output_type": "execute_result"
    }
   ],
   "source": [
    "from sklearn.feature_extraction.text import CountVectorizer\n",
    "\n",
    "v = CountVectorizer(ngram_range=(1,2))\n",
    "v.fit([\"Thor Hathodawala is looking for a job\"])\n",
    "v.vocabulary_"
   ]
  },
  {
   "cell_type": "code",
   "execution_count": 21,
   "id": "4352aa5d-67d8-43d2-b2c4-54e312cd8d23",
   "metadata": {},
   "outputs": [],
   "source": [
    "corpus = [\n",
    "    \"Thor ate pizza\",\n",
    "    \"Loki is tall\", \n",
    "    \"Loki is eating pizza\"\n",
    "]"
   ]
  },
  {
   "cell_type": "code",
   "execution_count": 8,
   "id": "0aee8b1b-bfb1-4364-9d01-9ace4717ca39",
   "metadata": {},
   "outputs": [],
   "source": [
    "import spacy\n",
    "\n",
    "nlp = spacy.load(\"en_core_web_sm\")\n",
    "\n",
    "def preprocess(text):\n",
    "    doc = nlp(text)\n",
    "    filtered_tokens = []\n",
    "    for token in doc:\n",
    "        if token.is_stop or token.is_punct:\n",
    "            continue\n",
    "        filtered_tokens.append(token.lemma_)\n",
    "    return \" \".join(filtered_tokens)"
   ]
  },
  {
   "cell_type": "code",
   "execution_count": 16,
   "id": "98f595f3-6a5a-4ad2-8665-72325eabfe4f",
   "metadata": {},
   "outputs": [
    {
     "data": {
      "text/plain": [
       "'Loki eat pizza'"
      ]
     },
     "execution_count": 16,
     "metadata": {},
     "output_type": "execute_result"
    }
   ],
   "source": [
    "preprocess(\"Loki is eating pizza\")"
   ]
  },
  {
   "cell_type": "code",
   "execution_count": 18,
   "id": "5430939d-dbd5-496c-953d-1d3500448de4",
   "metadata": {},
   "outputs": [
    {
     "data": {
      "text/plain": [
       "['thor eat pizza', 'Loki tall', 'Loki eat pizza']"
      ]
     },
     "execution_count": 18,
     "metadata": {},
     "output_type": "execute_result"
    }
   ],
   "source": [
    "corpus_processed = [preprocess(text) for text in corpus]\n",
    "corpus_processed"
   ]
  },
  {
   "cell_type": "code",
   "execution_count": 29,
   "id": "80a7569e-5b69-4156-b7e1-b17ed001925d",
   "metadata": {},
   "outputs": [
    {
     "data": {
      "text/plain": [
       "array([[0, 0, 0, 0, 0, 0, 0, 0, 0, 1, 0]])"
      ]
     },
     "execution_count": 29,
     "metadata": {},
     "output_type": "execute_result"
    }
   ],
   "source": [
    "v.transform([\"Thor eat pizza\"]).toarray()"
   ]
  },
  {
   "cell_type": "code",
   "execution_count": 30,
   "id": "e649e9b9-1914-488a-b478-f80a0cef7d01",
   "metadata": {},
   "outputs": [
    {
     "data": {
      "text/plain": [
       "array([[0, 0, 0, 0, 0, 0, 0, 0, 0, 0, 0]])"
      ]
     },
     "execution_count": 30,
     "metadata": {},
     "output_type": "execute_result"
    }
   ],
   "source": [
    "v.transform([\"Hulk eat pizza\"]).toarray()"
   ]
  },
  {
   "cell_type": "code",
   "execution_count": 34,
   "id": "6c5624f3-79f8-4003-95a3-1c2528e53cc8",
   "metadata": {},
   "outputs": [],
   "source": [
    "import pandas as pd\n",
    "import numpy as np"
   ]
  },
  {
   "cell_type": "code",
   "execution_count": 37,
   "id": "413ffc9f-9b6d-4c9a-ad5c-05417e4af3f2",
   "metadata": {},
   "outputs": [],
   "source": [
    "df = pd.read_json(\"News_Category_Dataset_v3.json\", lines=True)"
   ]
  },
  {
   "cell_type": "code",
   "execution_count": 38,
   "id": "0228b299-324f-49b3-89d2-8879224e51de",
   "metadata": {},
   "outputs": [
    {
     "data": {
      "text/plain": [
       "(209527, 6)"
      ]
     },
     "execution_count": 38,
     "metadata": {},
     "output_type": "execute_result"
    }
   ],
   "source": [
    "df.shape"
   ]
  },
  {
   "cell_type": "code",
   "execution_count": 39,
   "id": "cfff1f51-4000-4602-8665-6df5bbdbecec",
   "metadata": {},
   "outputs": [
    {
     "data": {
      "text/html": [
       "<div>\n",
       "<style scoped>\n",
       "    .dataframe tbody tr th:only-of-type {\n",
       "        vertical-align: middle;\n",
       "    }\n",
       "\n",
       "    .dataframe tbody tr th {\n",
       "        vertical-align: top;\n",
       "    }\n",
       "\n",
       "    .dataframe thead th {\n",
       "        text-align: right;\n",
       "    }\n",
       "</style>\n",
       "<table border=\"1\" class=\"dataframe\">\n",
       "  <thead>\n",
       "    <tr style=\"text-align: right;\">\n",
       "      <th></th>\n",
       "      <th>link</th>\n",
       "      <th>headline</th>\n",
       "      <th>category</th>\n",
       "      <th>short_description</th>\n",
       "      <th>authors</th>\n",
       "      <th>date</th>\n",
       "    </tr>\n",
       "  </thead>\n",
       "  <tbody>\n",
       "    <tr>\n",
       "      <th>0</th>\n",
       "      <td>https://www.huffpost.com/entry/covid-boosters-...</td>\n",
       "      <td>Over 4 Million Americans Roll Up Sleeves For O...</td>\n",
       "      <td>U.S. NEWS</td>\n",
       "      <td>Health experts said it is too early to predict...</td>\n",
       "      <td>Carla K. Johnson, AP</td>\n",
       "      <td>2022-09-23</td>\n",
       "    </tr>\n",
       "    <tr>\n",
       "      <th>1</th>\n",
       "      <td>https://www.huffpost.com/entry/american-airlin...</td>\n",
       "      <td>American Airlines Flyer Charged, Banned For Li...</td>\n",
       "      <td>U.S. NEWS</td>\n",
       "      <td>He was subdued by passengers and crew when he ...</td>\n",
       "      <td>Mary Papenfuss</td>\n",
       "      <td>2022-09-23</td>\n",
       "    </tr>\n",
       "    <tr>\n",
       "      <th>2</th>\n",
       "      <td>https://www.huffpost.com/entry/funniest-tweets...</td>\n",
       "      <td>23 Of The Funniest Tweets About Cats And Dogs ...</td>\n",
       "      <td>COMEDY</td>\n",
       "      <td>\"Until you have a dog you don't understand wha...</td>\n",
       "      <td>Elyse Wanshel</td>\n",
       "      <td>2022-09-23</td>\n",
       "    </tr>\n",
       "    <tr>\n",
       "      <th>3</th>\n",
       "      <td>https://www.huffpost.com/entry/funniest-parent...</td>\n",
       "      <td>The Funniest Tweets From Parents This Week (Se...</td>\n",
       "      <td>PARENTING</td>\n",
       "      <td>\"Accidentally put grown-up toothpaste on my to...</td>\n",
       "      <td>Caroline Bologna</td>\n",
       "      <td>2022-09-23</td>\n",
       "    </tr>\n",
       "    <tr>\n",
       "      <th>4</th>\n",
       "      <td>https://www.huffpost.com/entry/amy-cooper-lose...</td>\n",
       "      <td>Woman Who Called Cops On Black Bird-Watcher Lo...</td>\n",
       "      <td>U.S. NEWS</td>\n",
       "      <td>Amy Cooper accused investment firm Franklin Te...</td>\n",
       "      <td>Nina Golgowski</td>\n",
       "      <td>2022-09-22</td>\n",
       "    </tr>\n",
       "  </tbody>\n",
       "</table>\n",
       "</div>"
      ],
      "text/plain": [
       "                                                link  \\\n",
       "0  https://www.huffpost.com/entry/covid-boosters-...   \n",
       "1  https://www.huffpost.com/entry/american-airlin...   \n",
       "2  https://www.huffpost.com/entry/funniest-tweets...   \n",
       "3  https://www.huffpost.com/entry/funniest-parent...   \n",
       "4  https://www.huffpost.com/entry/amy-cooper-lose...   \n",
       "\n",
       "                                            headline   category  \\\n",
       "0  Over 4 Million Americans Roll Up Sleeves For O...  U.S. NEWS   \n",
       "1  American Airlines Flyer Charged, Banned For Li...  U.S. NEWS   \n",
       "2  23 Of The Funniest Tweets About Cats And Dogs ...     COMEDY   \n",
       "3  The Funniest Tweets From Parents This Week (Se...  PARENTING   \n",
       "4  Woman Who Called Cops On Black Bird-Watcher Lo...  U.S. NEWS   \n",
       "\n",
       "                                   short_description               authors  \\\n",
       "0  Health experts said it is too early to predict...  Carla K. Johnson, AP   \n",
       "1  He was subdued by passengers and crew when he ...        Mary Papenfuss   \n",
       "2  \"Until you have a dog you don't understand wha...         Elyse Wanshel   \n",
       "3  \"Accidentally put grown-up toothpaste on my to...      Caroline Bologna   \n",
       "4  Amy Cooper accused investment firm Franklin Te...        Nina Golgowski   \n",
       "\n",
       "        date  \n",
       "0 2022-09-23  \n",
       "1 2022-09-23  \n",
       "2 2022-09-23  \n",
       "3 2022-09-23  \n",
       "4 2022-09-22  "
      ]
     },
     "execution_count": 39,
     "metadata": {},
     "output_type": "execute_result"
    }
   ],
   "source": [
    "df.head()"
   ]
  },
  {
   "cell_type": "code",
   "execution_count": 41,
   "id": "626ea5ab-a211-40c7-bd3c-f276c6e455c1",
   "metadata": {},
   "outputs": [
    {
     "data": {
      "text/plain": [
       "0    Health experts said it is too early to predict...\n",
       "1    He was subdued by passengers and crew when he ...\n",
       "2    \"Until you have a dog you don't understand wha...\n",
       "Name: short_description, dtype: object"
      ]
     },
     "execution_count": 41,
     "metadata": {},
     "output_type": "execute_result"
    }
   ],
   "source": [
    "df[\"short_description\"][:3]\n"
   ]
  },
  {
   "cell_type": "code",
   "execution_count": 43,
   "id": "3802dd82-d0bf-4406-a47c-0f1918a50fbd",
   "metadata": {},
   "outputs": [
    {
     "data": {
      "text/plain": [
       "category\n",
       "POLITICS          35602\n",
       "WELLNESS          17945\n",
       "ENTERTAINMENT     17362\n",
       "TRAVEL             9900\n",
       "STYLE & BEAUTY     9814\n",
       "PARENTING          8791\n",
       "HEALTHY LIVING     6694\n",
       "QUEER VOICES       6347\n",
       "FOOD & DRINK       6340\n",
       "BUSINESS           5992\n",
       "COMEDY             5400\n",
       "SPORTS             5077\n",
       "BLACK VOICES       4583\n",
       "HOME & LIVING      4320\n",
       "PARENTS            3955\n",
       "THE WORLDPOST      3664\n",
       "WEDDINGS           3653\n",
       "WOMEN              3572\n",
       "CRIME              3562\n",
       "IMPACT             3484\n",
       "DIVORCE            3426\n",
       "WORLD NEWS         3299\n",
       "MEDIA              2944\n",
       "WEIRD NEWS         2777\n",
       "GREEN              2622\n",
       "WORLDPOST          2579\n",
       "RELIGION           2577\n",
       "STYLE              2254\n",
       "SCIENCE            2206\n",
       "TECH               2104\n",
       "TASTE              2096\n",
       "MONEY              1756\n",
       "ARTS               1509\n",
       "ENVIRONMENT        1444\n",
       "FIFTY              1401\n",
       "GOOD NEWS          1398\n",
       "U.S. NEWS          1377\n",
       "ARTS & CULTURE     1339\n",
       "COLLEGE            1144\n",
       "LATINO VOICES      1130\n",
       "CULTURE & ARTS     1074\n",
       "EDUCATION          1014\n",
       "Name: count, dtype: int64"
      ]
     },
     "execution_count": 43,
     "metadata": {},
     "output_type": "execute_result"
    }
   ],
   "source": [
    "df.category.value_counts()"
   ]
  },
  {
   "cell_type": "code",
   "execution_count": 52,
   "id": "919972ae-cce1-4396-835e-63b3529c2d17",
   "metadata": {},
   "outputs": [],
   "source": [
    "min_samples = 2000\n",
    "\n",
    "df_business = df[df['category'] == 'BUSINESS'].sample(min_samples, random_state = 42)\n",
    "df_crime = df[df['category'] == 'CRIME'].sample(min_samples, random_state = 42)\n",
    "df_sports = df[df['category'] == 'SPORTS'].sample(min_samples, random_state = 42)\n",
    "df_science = df[df['category'] == 'SCIENCE'].sample(min_samples, random_state = 42)"
   ]
  },
  {
   "cell_type": "code",
   "execution_count": 54,
   "id": "eb87192b-3fbc-43f1-8387-87267bafea83",
   "metadata": {},
   "outputs": [
    {
     "data": {
      "text/plain": [
       "category\n",
       "BUSINESS    2000\n",
       "CRIME       2000\n",
       "SPORTS      2000\n",
       "SCIENCE     2000\n",
       "Name: count, dtype: int64"
      ]
     },
     "execution_count": 54,
     "metadata": {},
     "output_type": "execute_result"
    }
   ],
   "source": [
    "df_balanced = pd.concat([df_business, df_crime, df_sports, df_science], axis = 0)\n",
    "df_balanced.category.value_counts()"
   ]
  },
  {
   "cell_type": "code",
   "execution_count": 55,
   "id": "3fa0be94-d46f-4476-afbd-1d9740dc1347",
   "metadata": {},
   "outputs": [],
   "source": [
    "df_balanced['category_num'] = df_balanced['category'].map({\n",
    "    'BUSINESS': 0,\n",
    "    'SPORTS': 1, \n",
    "    'CRIME': 2, \n",
    "    'SCIENCE': 3\n",
    "})"
   ]
  },
  {
   "cell_type": "code",
   "execution_count": 57,
   "id": "076eeff6-3410-4035-bff8-2b9a21137974",
   "metadata": {},
   "outputs": [
    {
     "data": {
      "text/html": [
       "<div>\n",
       "<style scoped>\n",
       "    .dataframe tbody tr th:only-of-type {\n",
       "        vertical-align: middle;\n",
       "    }\n",
       "\n",
       "    .dataframe tbody tr th {\n",
       "        vertical-align: top;\n",
       "    }\n",
       "\n",
       "    .dataframe thead th {\n",
       "        text-align: right;\n",
       "    }\n",
       "</style>\n",
       "<table border=\"1\" class=\"dataframe\">\n",
       "  <thead>\n",
       "    <tr style=\"text-align: right;\">\n",
       "      <th></th>\n",
       "      <th>link</th>\n",
       "      <th>headline</th>\n",
       "      <th>category</th>\n",
       "      <th>short_description</th>\n",
       "      <th>authors</th>\n",
       "      <th>date</th>\n",
       "      <th>category_num</th>\n",
       "    </tr>\n",
       "  </thead>\n",
       "  <tbody>\n",
       "    <tr>\n",
       "      <th>72193</th>\n",
       "      <td>https://www.huffingtonpost.com/entry/waldo-sou...</td>\n",
       "      <td>'Very Disorderly' Waldo Makes It Easy For Poli...</td>\n",
       "      <td>CRIME</td>\n",
       "      <td>He should have stuck to blending in.</td>\n",
       "      <td>Lee Moran</td>\n",
       "      <td>2016-03-21</td>\n",
       "      <td>2</td>\n",
       "    </tr>\n",
       "    <tr>\n",
       "      <th>123271</th>\n",
       "      <td>https://www.huffingtonpost.com/entry/grand-cen...</td>\n",
       "      <td>3 Seriously Injured In Grand Central Station S...</td>\n",
       "      <td>CRIME</td>\n",
       "      <td></td>\n",
       "      <td>Ryan Grenoble</td>\n",
       "      <td>2014-08-16</td>\n",
       "      <td>2</td>\n",
       "    </tr>\n",
       "  </tbody>\n",
       "</table>\n",
       "</div>"
      ],
      "text/plain": [
       "                                                     link  \\\n",
       "72193   https://www.huffingtonpost.com/entry/waldo-sou...   \n",
       "123271  https://www.huffingtonpost.com/entry/grand-cen...   \n",
       "\n",
       "                                                 headline category  \\\n",
       "72193   'Very Disorderly' Waldo Makes It Easy For Poli...    CRIME   \n",
       "123271  3 Seriously Injured In Grand Central Station S...    CRIME   \n",
       "\n",
       "                           short_description        authors       date  \\\n",
       "72193   He should have stuck to blending in.      Lee Moran 2016-03-21   \n",
       "123271                                        Ryan Grenoble 2014-08-16   \n",
       "\n",
       "        category_num  \n",
       "72193              2  \n",
       "123271             2  "
      ]
     },
     "execution_count": 57,
     "metadata": {},
     "output_type": "execute_result"
    }
   ],
   "source": [
    "df_balanced[2003: 2005]"
   ]
  },
  {
   "cell_type": "code",
   "execution_count": 58,
   "id": "619012d6-9e43-4e53-bf0b-a09d0ab4a869",
   "metadata": {},
   "outputs": [],
   "source": [
    "from sklearn.model_selection import train_test_split\n",
    "\n",
    "X_train, X_test, y_train, y_test = train_test_split(df_balanced['short_description'], df_balanced['category_num'], test_size = 0.2, random_state = 42 )"
   ]
  },
  {
   "cell_type": "code",
   "execution_count": 61,
   "id": "d0c12c79-ce4f-44aa-8e2d-e4e2ac9cb78f",
   "metadata": {},
   "outputs": [
    {
     "data": {
      "text/plain": [
       "((6400,), (1600,))"
      ]
     },
     "execution_count": 61,
     "metadata": {},
     "output_type": "execute_result"
    }
   ],
   "source": [
    "X_train.shape, X_test.shape"
   ]
  },
  {
   "cell_type": "code",
   "execution_count": 65,
   "id": "194ed31c-dfbe-4612-a0f5-fac552877e0e",
   "metadata": {},
   "outputs": [
    {
     "name": "stdout",
     "output_type": "stream",
     "text": [
      "              precision    recall  f1-score   support\n",
      "\n",
      "           0       0.61      0.78      0.68       425\n",
      "           1       0.82      0.52      0.64       397\n",
      "           2       0.54      0.78      0.64       379\n",
      "           3       0.77      0.51      0.61       399\n",
      "\n",
      "    accuracy                           0.65      1600\n",
      "   macro avg       0.68      0.65      0.64      1600\n",
      "weighted avg       0.69      0.65      0.64      1600\n",
      "\n"
     ]
    }
   ],
   "source": [
    "# Attempt 1 : Use 1-gram which is nothing but a Bag Of Words (BOW) model\n",
    "from sklearn.naive_bayes import MultinomialNB\n",
    "from sklearn.pipeline import Pipeline\n",
    "from sklearn.metrics import classification_report\n",
    "\n",
    "clf = Pipeline([\n",
    "    ('vectorizer_bow', CountVectorizer()), \n",
    "    ('MultiNB', MultinomialNB())\n",
    "])\n",
    "\n",
    "clf.fit(X_train, y_train)\n",
    "\n",
    "y_pred = clf.predict(X_test)\n",
    "\n",
    "print(classification_report(y_test, y_pred))"
   ]
  },
  {
   "cell_type": "code",
   "execution_count": 68,
   "id": "4b18b15a-b301-4085-85e1-e45448f40590",
   "metadata": {},
   "outputs": [
    {
     "name": "stdout",
     "output_type": "stream",
     "text": [
      "              precision    recall  f1-score   support\n",
      "\n",
      "           0       0.55      0.80      0.66       425\n",
      "           1       0.84      0.46      0.60       397\n",
      "           2       0.55      0.77      0.64       379\n",
      "           3       0.77      0.46      0.58       399\n",
      "\n",
      "    accuracy                           0.62      1600\n",
      "   macro avg       0.68      0.62      0.62      1600\n",
      "weighted avg       0.68      0.62      0.62      1600\n",
      "\n"
     ]
    }
   ],
   "source": [
    "# Attempt 1 : Use 1-gram and bigram model\n",
    "clf = Pipeline([\n",
    "    ('vectorizer_1_2_gram', CountVectorizer(ngram_range=(1,2))), \n",
    "    ('MultiNB', MultinomialNB())\n",
    "])\n",
    "\n",
    "clf.fit(X_train, y_train)\n",
    "\n",
    "y_pred = clf.predict(X_test)\n",
    "\n",
    "print(classification_report(y_test, y_pred))"
   ]
  },
  {
   "cell_type": "code",
   "execution_count": 71,
   "id": "098cda7a-cd13-435f-8a3e-7274e0467c2c",
   "metadata": {},
   "outputs": [],
   "source": [
    "# Use text pre-processing to remove stop words, punctuations and apply lemmatization\n",
    "\n",
    "df_balanced['preprocessed_text'] = df_balanced['short_description'].apply(preprocess)"
   ]
  },
  {
   "cell_type": "code",
   "execution_count": 72,
   "id": "dab5b388-7501-44e8-afc5-bc68e6fc7b40",
   "metadata": {},
   "outputs": [
    {
     "data": {
      "text/html": [
       "<div>\n",
       "<style scoped>\n",
       "    .dataframe tbody tr th:only-of-type {\n",
       "        vertical-align: middle;\n",
       "    }\n",
       "\n",
       "    .dataframe tbody tr th {\n",
       "        vertical-align: top;\n",
       "    }\n",
       "\n",
       "    .dataframe thead th {\n",
       "        text-align: right;\n",
       "    }\n",
       "</style>\n",
       "<table border=\"1\" class=\"dataframe\">\n",
       "  <thead>\n",
       "    <tr style=\"text-align: right;\">\n",
       "      <th></th>\n",
       "      <th>link</th>\n",
       "      <th>headline</th>\n",
       "      <th>category</th>\n",
       "      <th>short_description</th>\n",
       "      <th>authors</th>\n",
       "      <th>date</th>\n",
       "      <th>category_num</th>\n",
       "      <th>preprocessed_text</th>\n",
       "    </tr>\n",
       "  </thead>\n",
       "  <tbody>\n",
       "    <tr>\n",
       "      <th>101848</th>\n",
       "      <td>https://www.huffingtonpost.com/entry/how-to-ma...</td>\n",
       "      <td>How to Manage Your Personal Brand</td>\n",
       "      <td>BUSINESS</td>\n",
       "      <td>Make no mistake: If you have a Facebook accoun...</td>\n",
       "      <td>Kevin O'Leary, Contributor</td>\n",
       "      <td>2015-04-20</td>\n",
       "      <td>0</td>\n",
       "      <td>mistake Facebook account Instagram page Twitte...</td>\n",
       "    </tr>\n",
       "    <tr>\n",
       "      <th>93655</th>\n",
       "      <td>https://www.huffingtonpost.com/entry/uber-ad-n...</td>\n",
       "      <td>It Looks Like Uber's Winning Its War With New ...</td>\n",
       "      <td>BUSINESS</td>\n",
       "      <td>Grab the popcorn.</td>\n",
       "      <td>Alexander C. Kaufman</td>\n",
       "      <td>2015-07-22</td>\n",
       "      <td>0</td>\n",
       "      <td>grab popcorn</td>\n",
       "    </tr>\n",
       "    <tr>\n",
       "      <th>103195</th>\n",
       "      <td>https://www.huffingtonpost.com/entry/the-progr...</td>\n",
       "      <td>The Progressive Promise of Today's Technology</td>\n",
       "      <td>BUSINESS</td>\n",
       "      <td>A digital policy for the new century, tailored...</td>\n",
       "      <td>Andrei Cherny, ContributorCEO, Aspiration.com</td>\n",
       "      <td>2015-04-04</td>\n",
       "      <td>0</td>\n",
       "      <td>digital policy new century tailor moment futur...</td>\n",
       "    </tr>\n",
       "    <tr>\n",
       "      <th>103321</th>\n",
       "      <td>https://www.huffingtonpost.com/entry/dont-let-...</td>\n",
       "      <td>Don't Let These 5 Confusing Words Mar Your Image</td>\n",
       "      <td>BUSINESS</td>\n",
       "      <td>Tom's an articulate physician, totally able to...</td>\n",
       "      <td>Dianna Booher, ContributorCEO, BooherResearch....</td>\n",
       "      <td>2015-04-02</td>\n",
       "      <td>0</td>\n",
       "      <td>Tom articulate physician totally able speak mi...</td>\n",
       "    </tr>\n",
       "    <tr>\n",
       "      <th>96214</th>\n",
       "      <td>https://www.huffingtonpost.com/entry/what-you-...</td>\n",
       "      <td>What You Don't Know About Overnight Success</td>\n",
       "      <td>BUSINESS</td>\n",
       "      <td>I've been fighting this thing for 32 years. \"O...</td>\n",
       "      <td>Grant Cardone, ContributorNew York Times bests...</td>\n",
       "      <td>2015-06-23</td>\n",
       "      <td>0</td>\n",
       "      <td>fight thing 32 year overnight success happen o...</td>\n",
       "    </tr>\n",
       "  </tbody>\n",
       "</table>\n",
       "</div>"
      ],
      "text/plain": [
       "                                                     link  \\\n",
       "101848  https://www.huffingtonpost.com/entry/how-to-ma...   \n",
       "93655   https://www.huffingtonpost.com/entry/uber-ad-n...   \n",
       "103195  https://www.huffingtonpost.com/entry/the-progr...   \n",
       "103321  https://www.huffingtonpost.com/entry/dont-let-...   \n",
       "96214   https://www.huffingtonpost.com/entry/what-you-...   \n",
       "\n",
       "                                                 headline  category  \\\n",
       "101848                  How to Manage Your Personal Brand  BUSINESS   \n",
       "93655   It Looks Like Uber's Winning Its War With New ...  BUSINESS   \n",
       "103195      The Progressive Promise of Today's Technology  BUSINESS   \n",
       "103321   Don't Let These 5 Confusing Words Mar Your Image  BUSINESS   \n",
       "96214         What You Don't Know About Overnight Success  BUSINESS   \n",
       "\n",
       "                                        short_description  \\\n",
       "101848  Make no mistake: If you have a Facebook accoun...   \n",
       "93655                                   Grab the popcorn.   \n",
       "103195  A digital policy for the new century, tailored...   \n",
       "103321  Tom's an articulate physician, totally able to...   \n",
       "96214   I've been fighting this thing for 32 years. \"O...   \n",
       "\n",
       "                                                  authors       date  \\\n",
       "101848                         Kevin O'Leary, Contributor 2015-04-20   \n",
       "93655                                Alexander C. Kaufman 2015-07-22   \n",
       "103195      Andrei Cherny, ContributorCEO, Aspiration.com 2015-04-04   \n",
       "103321  Dianna Booher, ContributorCEO, BooherResearch.... 2015-04-02   \n",
       "96214   Grant Cardone, ContributorNew York Times bests... 2015-06-23   \n",
       "\n",
       "        category_num                                  preprocessed_text  \n",
       "101848             0  mistake Facebook account Instagram page Twitte...  \n",
       "93655              0                                       grab popcorn  \n",
       "103195             0  digital policy new century tailor moment futur...  \n",
       "103321             0  Tom articulate physician totally able speak mi...  \n",
       "96214              0  fight thing 32 year overnight success happen o...  "
      ]
     },
     "execution_count": 72,
     "metadata": {},
     "output_type": "execute_result"
    }
   ],
   "source": [
    "df_balanced.head()\n"
   ]
  },
  {
   "cell_type": "code",
   "execution_count": 73,
   "id": "ed83e72e-87e1-4687-a0a9-7dc7b7a4787c",
   "metadata": {},
   "outputs": [],
   "source": [
    "X_train, X_test, y_train, y_test = train_test_split(df_balanced['preprocessed_text'], df_balanced['category_num'], test_size = 0.2, random_state = 42 )"
   ]
  },
  {
   "cell_type": "code",
   "execution_count": 74,
   "id": "2dc6742b-487c-4748-9ba1-9f0eda55f9fd",
   "metadata": {},
   "outputs": [
    {
     "name": "stdout",
     "output_type": "stream",
     "text": [
      "              precision    recall  f1-score   support\n",
      "\n",
      "           0       0.63      0.78      0.70       425\n",
      "           1       0.84      0.52      0.64       397\n",
      "           2       0.53      0.81      0.64       379\n",
      "           3       0.79      0.50      0.61       399\n",
      "\n",
      "    accuracy                           0.65      1600\n",
      "   macro avg       0.70      0.65      0.65      1600\n",
      "weighted avg       0.70      0.65      0.65      1600\n",
      "\n"
     ]
    }
   ],
   "source": [
    "#1. create a pipeline object\n",
    "clf = Pipeline([\n",
    "    ('vectorizer_bow', CountVectorizer(ngram_range = (1, 2))),        #using the ngram_range parameter \n",
    "    ('Multi NB', MultinomialNB())\n",
    "])\n",
    "\n",
    "#2. fit with X_train and y_train\n",
    "clf.fit(X_train, y_train)\n",
    "\n",
    "\n",
    "#3. get the predictions for X_test and store it in y_pred\n",
    "y_pred = clf.predict(X_test)\n",
    "\n",
    "\n",
    "#4. print the classfication report\n",
    "print(classification_report(y_test, y_pred))"
   ]
  },
  {
   "cell_type": "code",
   "execution_count": null,
   "id": "5c33a1e6-d06e-47f3-abe6-4be3aa3ed0d4",
   "metadata": {},
   "outputs": [],
   "source": []
  }
 ],
 "metadata": {
  "kernelspec": {
   "display_name": "Python 3 (ipykernel)",
   "language": "python",
   "name": "python3"
  },
  "language_info": {
   "codemirror_mode": {
    "name": "ipython",
    "version": 3
   },
   "file_extension": ".py",
   "mimetype": "text/x-python",
   "name": "python",
   "nbconvert_exporter": "python",
   "pygments_lexer": "ipython3",
   "version": "3.9.6"
  }
 },
 "nbformat": 4,
 "nbformat_minor": 5
}
