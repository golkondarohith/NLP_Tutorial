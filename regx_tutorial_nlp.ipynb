{
 "cells": [
  {
   "cell_type": "code",
   "execution_count": 2,
   "id": "76bc2b01-cc6a-458e-96af-cf38c72c1966",
   "metadata": {},
   "outputs": [],
   "source": [
    "import re"
   ]
  },
  {
   "cell_type": "code",
   "execution_count": 29,
   "id": "d0c12d1e-70d7-48c1-a97d-8f5c5a3212f3",
   "metadata": {},
   "outputs": [],
   "source": [
    "chat1 = 'codebasics: you ask lot of questions 😠  1235678912, abc_@xyz.com, 6667778889'\n",
    "chat2 = 'codebasics: here it is: (123)-567-8912, abcABC@xyz.com'\n",
    "chat3 = 'codebasics: yes, phone: 1235678912 email: ab93_Cc@xyz.com'"
   ]
  },
  {
   "cell_type": "code",
   "execution_count": 30,
   "id": "4f77e858-e1e8-43d0-8361-491aab0cfd44",
   "metadata": {},
   "outputs": [
    {
     "data": {
      "text/plain": [
       "(['(123)-567-8912'], ['ab93_Cc@xyz.com'])"
      ]
     },
     "execution_count": 30,
     "metadata": {},
     "output_type": "execute_result"
    }
   ],
   "source": [
    "phone = \"\\d{10}|\\(\\d{3}\\)-\\d{3}-\\d{4}\"\n",
    "email = \"[a-z0-9A-Z_]*@[a-zA-Z]*\\.[a-z]*\"\n",
    "phone_matches = re.findall(phone, chat2)\n",
    "email_matches = re.findall(email, chat3)\n",
    "phone_matches, email_matches"
   ]
  },
  {
   "cell_type": "code",
   "execution_count": 32,
   "id": "85762b6c-e401-4ed6-a55a-021c7f6e720e",
   "metadata": {},
   "outputs": [],
   "source": [
    "chat11='codebasics: Hello, I am having an issue with my order # 412889912'\n",
    "chat22='codebasics: I have a problem with my order number 412889912'\n",
    "chat33='codebasics: My order 412889912 is having an issue, I was charged 300$ when online it says 280$'"
   ]
  },
  {
   "cell_type": "code",
   "execution_count": 34,
   "id": "0bede7b7-d05d-450b-a5b0-d21bc9ad542d",
   "metadata": {},
   "outputs": [
    {
     "data": {
      "text/plain": [
       "['412889912']"
      ]
     },
     "execution_count": 34,
     "metadata": {},
     "output_type": "execute_result"
    }
   ],
   "source": [
    "order_num = \"order[^\\d]*(\\d*)\"\n",
    "order_matches = re.findall(order_num, chat33)\n",
    "order_matches"
   ]
  },
  {
   "cell_type": "code",
   "execution_count": 39,
   "id": "bb9b5549-bf08-4488-8d8e-f8d8371bc283",
   "metadata": {},
   "outputs": [],
   "source": [
    "text ='''\n",
    "Born Elon Reeve Musk\n",
    "June 28, 1971 (age 50)\n",
    "Pretoria, Transvaal, South Africa\n",
    "Citizenship\t\n",
    "South Africa (1971–present)\n",
    "Canada (1971–present)\n",
    "United States (2002–present)\n",
    "Education\tUniversity of Pennsylvania (BS, BA)\n",
    "Title\t\n",
    "Founder, CEO and Chief Engineer of SpaceX\n",
    "CEO and product architect of Tesla, Inc.\n",
    "Founder of The Boring Company and X.com (now part of PayPal)\n",
    "Co-founder of Neuralink, OpenAI, and Zip2\n",
    "Spouse(s)\t\n",
    "Justine Wilson\n",
    "​\n",
    "​(m. 2000; div. 2008)​\n",
    "Talulah Riley\n",
    "​\n",
    "​(m. 2010; div. 2012)​\n",
    "​\n",
    "​(m. 2013; div. 2016)\n",
    "'''"
   ]
  },
  {
   "cell_type": "code",
   "execution_count": 40,
   "id": "5608d146-c7d5-48ef-8db6-0452952f412d",
   "metadata": {},
   "outputs": [
    {
     "data": {
      "text/plain": [
       "['50']"
      ]
     },
     "execution_count": 40,
     "metadata": {},
     "output_type": "execute_result"
    }
   ],
   "source": [
    "age = \"age[^\\d]*(\\d+)\"\n",
    "age_matches = re.findall(age, text)\n",
    "age_matches"
   ]
  },
  {
   "cell_type": "code",
   "execution_count": null,
   "id": "04469304-4d47-4487-b0d6-994f68a088d3",
   "metadata": {},
   "outputs": [],
   "source": [
    "name = \"Born(.*)\""
   ]
  }
 ],
 "metadata": {
  "kernelspec": {
   "display_name": "Python 3 (ipykernel)",
   "language": "python",
   "name": "python3"
  },
  "language_info": {
   "codemirror_mode": {
    "name": "ipython",
    "version": 3
   },
   "file_extension": ".py",
   "mimetype": "text/x-python",
   "name": "python",
   "nbconvert_exporter": "python",
   "pygments_lexer": "ipython3",
   "version": "3.9.6"
  }
 },
 "nbformat": 4,
 "nbformat_minor": 5
}
